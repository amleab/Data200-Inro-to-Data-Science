{
 "cells": [
  {
   "cell_type": "code",
   "execution_count": 11,
   "id": "6339bf6f-0746-493e-aaa3-64a512459c6a",
   "metadata": {},
   "outputs": [
    {
     "name": "stdout",
     "output_type": "stream",
     "text": [
      "Note: you may need to restart the kernel to use updated packages.\n"
     ]
    }
   ],
   "source": [
    "pip install somepackage > /dev/null 2>&1\n"
   ]
  },
  {
   "cell_type": "code",
   "execution_count": 12,
   "id": "2bb0c19f-1459-4212-a755-3b2641f30afc",
   "metadata": {},
   "outputs": [
    {
     "name": "stdout",
     "output_type": "stream",
     "text": [
      "Defaulting to user installation because normal site-packages is not writeable\n",
      "Looking in links: /usr/share/pip-wheels\n",
      "\u001b[31mERROR: Ignored the following versions that require a different python version: 0.2.1 Requires-Python >=3.11; 0.3.0 Requires-Python >=3.11; 0.4.0 Requires-Python >=3.11; 0.4.1 Requires-Python >=3.11; 0.4.2 Requires-Python >=3.11; 0.4.3 Requires-Python >=3.11; 0.4.4 Requires-Python >=3.11; 0.4.5 Requires-Python >=3.11; 0.5.0 Requires-Python >=3.11; 0.5.1 Requires-Python >=3.11; 0.5.10 Requires-Python >=3.11; 0.5.11 Requires-Python >=3.11; 0.5.2 Requires-Python >=3.11; 0.5.3 Requires-Python >=3.11; 0.5.4 Requires-Python >=3.11; 0.5.5 Requires-Python >=3.11; 0.5.6 Requires-Python >=3.11; 0.5.7 Requires-Python >=3.11; 0.5.8 Requires-Python >=3.11; 0.5.9 Requires-Python >=3.11; 0.6 Requires-Python >=3.11; 0.6.1 Requires-Python >=3.11; 0.6.2 Requires-Python >=3.11; 0.6.3 Requires-Python >=3.11; 0.6.4 Requires-Python >=3.11; 0.6.5 Requires-Python >=3.11; 0.6.6 Requires-Python >=3.11; 0.6.7 Requires-Python >=3.11; 0.6.8 Requires-Python >=3.11; 0.6.9 Requires-Python >=3.11; 0.7.0 Requires-Python >=3.11; 0.7.1 Requires-Python >=3.11; 0.7.2 Requires-Python >=3.11\u001b[0m\u001b[31m\n",
      "\u001b[0m\u001b[31mERROR: Could not find a version that satisfies the requirement sqlite-database (from versions: none)\u001b[0m\u001b[31m\n",
      "\u001b[0m\u001b[31mERROR: No matching distribution found for sqlite-database\u001b[0m\u001b[31m\n",
      "\u001b[0mNote: you may need to restart the kernel to use updated packages.\n"
     ]
    }
   ],
   "source": [
    "\n",
    "pip install sqlite-database"
   ]
  },
  {
   "cell_type": "code",
   "execution_count": 1,
   "id": "a6e22c69-ecf4-42cb-8d6f-f2893cc9ced5",
   "metadata": {},
   "outputs": [],
   "source": [
    "import sqlite3\n",
    "import csv\n",
    "import pandas as pd\n",
    "import numpy as np"
   ]
  },
  {
   "cell_type": "code",
   "execution_count": 2,
   "id": "56beb861-b06d-4461-9a90-d3ef18eb8ad9",
   "metadata": {},
   "outputs": [],
   "source": [
    "# Create a new database or connect to an existing one\n",
    "conn = sqlite3.connect(\"school.db\")  \n"
   ]
  },
  {
   "cell_type": "code",
   "execution_count": 3,
   "id": "5417ab6f-1e6e-4d4a-8a9a-f1c0a20a92d2",
   "metadata": {},
   "outputs": [],
   "source": [
    "# create a cursor \n",
    "cur = conn.cursor()\n"
   ]
  },
  {
   "cell_type": "code",
   "execution_count": 4,
   "id": "497b7f5a-5fc1-4d79-94ff-944b13984c8e",
   "metadata": {},
   "outputs": [
    {
     "data": {
      "text/plain": [
       "<sqlite3.Cursor at 0x7f2a5cac23c0>"
      ]
     },
     "execution_count": 4,
     "metadata": {},
     "output_type": "execute_result"
    }
   ],
   "source": [
    "#  Create a New Table (if not exists)\n",
    "\n",
    "cur.execute(\"\"\"\n",
    "CREATE TABLE IF NOT EXISTS students (\n",
    "    id INTEGER PRIMARY KEY AUTOINCREMENT,\n",
    "    name TEXT NOT NULL,\n",
    "    major TEXT NOT NULL\n",
    ")\n",
    "\"\"\")\n"
   ]
  },
  {
   "cell_type": "code",
   "execution_count": 8,
   "id": "31eedb6e-c1cb-404f-b056-5ff738975084",
   "metadata": {},
   "outputs": [],
   "source": [
    "# Already done in step 1\n",
    "conn = sqlite3.connect(\"school.db\")\n"
   ]
  },
  {
   "cell_type": "code",
   "execution_count": 5,
   "id": "85637828-b44f-435d-9055-193b7aa37b36",
   "metadata": {},
   "outputs": [],
   "source": [
    "students = [\n",
    "    (\"Alice\", \"Biology\"),\n",
    "    (\"Bob\", \"Computer Science\"),\n",
    "    (\"Charlie\", \"Mathematics\"),\n",
    "    (\"Amy\", \"Data Science\")\n",
    "]\n",
    "\n",
    "cur.executemany(\"INSERT INTO students (name, major) VALUES (?, ?)\", students)\n",
    "\n",
    "# Save changes\n",
    "conn.commit()\n"
   ]
  }
 ],
 "metadata": {
  "kernelspec": {
   "display_name": "anaconda-ai-2024.04-py310",
   "language": "python",
   "name": "conda-env-anaconda-ai-2024.04-py310-py"
  },
  "language_info": {
   "codemirror_mode": {
    "name": "ipython",
    "version": 3
   },
   "file_extension": ".py",
   "mimetype": "text/x-python",
   "name": "python",
   "nbconvert_exporter": "python",
   "pygments_lexer": "ipython3",
   "version": "3.10.13"
  }
 },
 "nbformat": 4,
 "nbformat_minor": 5
}
