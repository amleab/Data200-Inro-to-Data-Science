{
 "cells": [
  {
   "cell_type": "code",
   "execution_count": 2,
   "id": "a6e22c69-ecf4-42cb-8d6f-f2893cc9ced5",
   "metadata": {},
   "outputs": [],
   "source": [
    "import sqlite3\n",
    "import csv\n",
    "import pandas as pd\n",
    "import numpy as np"
   ]
  },
  {
   "cell_type": "code",
   "execution_count": 3,
   "id": "56beb861-b06d-4461-9a90-d3ef18eb8ad9",
   "metadata": {},
   "outputs": [],
   "source": [
    "# Create a new database or connect to an existing one\n",
    "conn = sqlite3.connect(\"school.db\")  \n"
   ]
  },
  {
   "cell_type": "code",
   "execution_count": 4,
   "id": "5417ab6f-1e6e-4d4a-8a9a-f1c0a20a92d2",
   "metadata": {},
   "outputs": [],
   "source": [
    "# create a cursor \n",
    "cur = conn.cursor()\n"
   ]
  },
  {
   "cell_type": "code",
   "execution_count": 7,
   "id": "497b7f5a-5fc1-4d79-94ff-944b13984c8e",
   "metadata": {},
   "outputs": [
    {
     "data": {
      "text/plain": [
       "<sqlite3.Cursor at 0x77b7f8b3f9c0>"
      ]
     },
     "execution_count": 7,
     "metadata": {},
     "output_type": "execute_result"
    }
   ],
   "source": [
    "#  Create a New Table (if not exists)\n",
    "\n",
    "cur.execute(\"\"\"\n",
    "CREATE TABLE IF NOT EXISTS students (\n",
    "    id INTEGER PRIMARY KEY AUTOINCREMENT,\n",
    "    name TEXT NOT NULL,\n",
    "    major TEXT NOT NULL\n",
    ")\n",
    "\"\"\")\n"
   ]
  },
  {
   "cell_type": "code",
   "execution_count": 8,
   "id": "31eedb6e-c1cb-404f-b056-5ff738975084",
   "metadata": {},
   "outputs": [],
   "source": [
    "\n",
    "conn = sqlite3.connect(\"school.db\")\n"
   ]
  },
  {
   "cell_type": "code",
   "execution_count": 9,
   "id": "85637828-b44f-435d-9055-193b7aa37b36",
   "metadata": {},
   "outputs": [],
   "source": [
    "students = [\n",
    "    (\"Alice\", \"Biology\"),\n",
    "    (\"Bob\", \"Computer Science\"),\n",
    "    (\"Charlie\", \"Mathematics\"),\n",
    "    (\"Amy\", \"Data Science\")\n",
    "]\n",
    "\n",
    "cur.executemany(\"INSERT INTO students (name, major) VALUES (?, ?)\", students)\n",
    "\n",
    "# Save changes\n",
    "conn.commit()\n"
   ]
  }
 ],
 "metadata": {
  "kernelspec": {
   "display_name": "anaconda-ai-2024.04-py310",
   "language": "python",
   "name": "conda-env-anaconda-ai-2024.04-py310-py"
  },
  "language_info": {
   "codemirror_mode": {
    "name": "ipython",
    "version": 3
   },
   "file_extension": ".py",
   "mimetype": "text/x-python",
   "name": "python",
   "nbconvert_exporter": "python",
   "pygments_lexer": "ipython3",
   "version": "3.10.13"
  }
 },
 "nbformat": 4,
 "nbformat_minor": 5
}
