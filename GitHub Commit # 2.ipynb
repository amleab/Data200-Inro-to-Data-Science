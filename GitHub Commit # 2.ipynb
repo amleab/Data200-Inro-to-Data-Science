{
 "cells": [
  {
   "cell_type": "markdown",
   "id": "585e0cc9-01b9-4be4-a1f8-b41d2b411a67",
   "metadata": {},
   "source": [
    "## 1 Research Question\r\n",
    "How do variations in tuition costs influence graduation rates at public and minority-serving four-year institution?s.\r\n"
   ]
  },
  {
   "cell_type": "markdown",
   "id": "578b7bc2-55c0-4ad5-9754-190ad760961e",
   "metadata": {},
   "source": [
    "## 2 Problem Statement\n",
    "Tuition costs play a significant role in student success and retention, but their direct impact on graduation rates remains underexplored. This study will use IPEDS data, specifically from the Institutional Characteristics (IC) dataset (for tuition costs) and the Graduation Rates (GR) dataset (for graduation outcomes), to examine how changes in tuition fees affect the likelihood of students graduating at public and minority-serving four-year institutions. The hypothesis is that higher tuition costs will negatively impact graduation rates due to increased financial barriers.\n"
   ]
  },
  {
   "cell_type": "code",
   "execution_count": 12,
   "id": "f15fc374-d961-4673-a7dc-094b6b332dcb",
   "metadata": {},
   "outputs": [],
   "source": [
    "import pandas as pd\n",
    "import numpy as np\n"
   ]
  },
  {
   "cell_type": "code",
   "execution_count": 17,
   "id": "4f23b46f-149d-4ff9-b1d1-1f55d43aa779",
   "metadata": {},
   "outputs": [
    {
     "name": "stderr",
     "output_type": "stream",
     "text": [
      "Matplotlib is building the font cache; this may take a moment.\n"
     ]
    }
   ],
   "source": [
    "import matplotlib as mb\n",
    "import seaborn as sn"
   ]
  },
  {
   "cell_type": "code",
   "execution_count": 25,
   "id": "9d907b71-ea96-4dee-ab39-3611e5210c8c",
   "metadata": {},
   "outputs": [
    {
     "name": "stdout",
     "output_type": "stream",
     "text": [
      "/home/81e8adb4-b981-4fde-9a1a-464275ba01ce\n"
     ]
    }
   ],
   "source": [
    "import os\n",
    "current_directory = os.getcwd()\n",
    "print(current_directory)"
   ]
  },
  {
   "cell_type": "code",
   "execution_count": 29,
   "id": "f836b11f-97d9-45f4-bc31-336a1402295b",
   "metadata": {},
   "outputs": [],
   "source": [
    "IC= 'IC_HD_2023.csv'"
   ]
  },
  {
   "cell_type": "code",
   "execution_count": 42,
   "id": "8ebf93cc-3ac5-415a-aa3d-04f0377cd079",
   "metadata": {},
   "outputs": [],
   "source": [
    "IC_data = pd.read_csv('/home/81e8adb4-b981-4fde-9a1a-464275ba01ce/IC_data/IC_HD_2023.csv', encoding='ISO-8859-1')\n"
   ]
  },
  {
   "cell_type": "code",
   "execution_count": 50,
   "id": "8aa3c876-880c-49cd-a14d-7bf89e6596e6",
   "metadata": {},
   "outputs": [],
   "source": [
    "head_IC_data=IC_data .head ()"
   ]
  },
  {
   "cell_type": "code",
   "execution_count": 52,
   "id": "dba10413-ae01-4d84-b6ce-448931dd1209",
   "metadata": {},
   "outputs": [
    {
     "name": "stdout",
     "output_type": "stream",
     "text": [
      "   UNITID                               INSTNM  \\\n",
      "0  100654             Alabama A & M University   \n",
      "1  100663  University of Alabama at Birmingham   \n",
      "2  100690                   Amridge University   \n",
      "3  100706  University of Alabama in Huntsville   \n",
      "4  100724             Alabama State University   \n",
      "\n",
      "                                              IALIAS  \\\n",
      "0                                               AAMU   \n",
      "1                                                UAB   \n",
      "2  Southern Christian University  Regions University   \n",
      "3              UAH  University of Alabama Huntsville   \n",
      "4                                                      \n",
      "\n",
      "                             ADDR        CITY STABBR         ZIP  FIPS  \\\n",
      "0            4900 Meridian Street      Normal     AL       35762     1   \n",
      "1  Administration Bldg Suite 1070  Birmingham     AL  35294-0110     1   \n",
      "2                  1200 Taylor Rd  Montgomery     AL  36117-3553     1   \n",
      "3                 301 Sparkman Dr  Huntsville     AL       35899     1   \n",
      "4            915 S Jackson Street  Montgomery     AL  36104-0271     1   \n",
      "\n",
      "   OBEREG               CHFNM  ...   CBSA CBSATYPE  CSA COUNTYCD  \\\n",
      "0       5  Dr. Daniel K. Wims  ...  26620        1  290     1089   \n",
      "1       5        Ray L. Watts  ...  13820        1  142     1073   \n",
      "2       5    Michael C.Turner  ...  33860        1  388     1101   \n",
      "3       5          Chuck Karr  ...  26620        1  290     1089   \n",
      "4       5     Quinton T. Ross  ...  33860        1  388     1101   \n",
      "\n",
      "            COUNTYNM  CNGDSTCD   LONGITUD   LATITUDE DFRCGID DFRCUSCG  \n",
      "0     Madison County       105 -86.568502  34.783368     106        1  \n",
      "1   Jefferson County       107 -86.799345  33.505697      91        1  \n",
      "2  Montgomery County       102 -86.174010  32.362609     124        2  \n",
      "3     Madison County       105 -86.640449  34.724557      91        1  \n",
      "4  Montgomery County       107 -86.295677  32.364317      97        1  \n",
      "\n",
      "[5 rows x 73 columns]\n"
     ]
    }
   ],
   "source": [
    "print(head_IC_data)"
   ]
  },
  {
   "cell_type": "code",
   "execution_count": null,
   "id": "959627a6-2a1a-4bdc-97f3-4dfb8cb90175",
   "metadata": {},
   "outputs": [],
   "source": []
  }
 ],
 "metadata": {
  "kernelspec": {
   "display_name": "anaconda-2024.02-py310",
   "language": "python",
   "name": "conda-env-anaconda-2024.02-py310-py"
  },
  "language_info": {
   "codemirror_mode": {
    "name": "ipython",
    "version": 3
   },
   "file_extension": ".py",
   "mimetype": "text/x-python",
   "name": "python",
   "nbconvert_exporter": "python",
   "pygments_lexer": "ipython3",
   "version": "3.10.14"
  }
 },
 "nbformat": 4,
 "nbformat_minor": 5
}
